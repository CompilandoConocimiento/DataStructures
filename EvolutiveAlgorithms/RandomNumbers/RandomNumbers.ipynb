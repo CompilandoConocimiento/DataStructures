{
 "cells": [
  {
   "cell_type": "markdown",
   "metadata": {},
   "source": [
    "## Libraries\n"
   ]
  },
  {
   "cell_type": "code",
   "execution_count": 89,
   "metadata": {},
   "outputs": [],
   "source": [
    "from random import random\n",
    "import math"
   ]
  },
  {
   "cell_type": "markdown",
   "metadata": {},
   "source": [
    "## n - Dimensions\n",
    "\n",
    "We define a point as a n size list, so:\n",
    " - Limits for each dimension, of type `[min, max]`\n",
    " - A list of restrictions\n",
    " - And a simple function to test if a point checks all restrictions\n",
    " - A z(point) objective function"
   ]
  },
  {
   "cell_type": "code",
   "execution_count": 90,
   "metadata": {},
   "outputs": [],
   "source": [
    "limits = [\n",
    "    [0, 75/2],\n",
    "    [0, 25],\n",
    "]\n",
    "\n",
    "def getRandom(limit):\n",
    "    minValue = limit[0]\n",
    "    maxValue = limit[1]\n",
    "    \n",
    "    return minValue + (maxValue - minValue) * random()\n",
    "\n",
    "restrictions = [\n",
    "    lambda point: 3*point[0] + 5*point[1] <= 100,\n",
    "    lambda point: 2*point[0] + 3*point[1] <= 75\n",
    "]\n",
    "\n",
    "\n",
    "def toAllRestrictions(data, restrictions):\n",
    "    for restriction in restrictions:\n",
    "        if restriction(data) == False: return False\n",
    "    \n",
    "    return True\n",
    "\n",
    "def z(point):\n",
    "    return 2*point[0] + point[1]\n",
    "\n",
    "\n",
    "def printListHorizontal(someList):\n",
    "    for index, element in enumerate(someList):\n",
    "        print(f\"# {index}: \\t {element}\")\n",
    "    print()\n",
    "    "
   ]
  },
  {
   "cell_type": "markdown",
   "metadata": {},
   "source": [
    "### Create some random points"
   ]
  },
  {
   "cell_type": "code",
   "execution_count": 91,
   "metadata": {},
   "outputs": [
    {
     "name": "stdout",
     "output_type": "stream",
     "text": [
      "# 0: \t [30.41724979526001, 8.231360674589283]\n",
      "# 1: \t [23.930288442679746, 15.127970400604951]\n",
      "# 2: \t [21.296119506209088, 19.629659694915443]\n",
      "# 3: \t [30.971050286409252, 4.1329536655425185]\n",
      "# 4: \t [1.1310965769039645, 16.812623802157322]\n",
      "# 5: \t [13.732809984480438, 14.194288965906205]\n",
      "# 6: \t [11.105038621735902, 15.325107987066685]\n",
      "# 7: \t [8.987671844328919, 15.628296837588755]\n",
      "# 8: \t [32.468967117902224, 5.956490943420881]\n",
      "# 9: \t [14.623453252065351, 17.77649410448948]\n",
      "\n"
     ]
    }
   ],
   "source": [
    "numTest = 10\n",
    "\n",
    "possiblePoints = [[getRandom(limits[0]), getRandom(limits[1])] for i in range(0, numTest)]\n",
    "printListHorizontal (possiblePoints)"
   ]
  },
  {
   "cell_type": "markdown",
   "metadata": {},
   "source": [
    "### Filter results that apply the restrictions  and get max, min in z"
   ]
  },
  {
   "cell_type": "code",
   "execution_count": 92,
   "metadata": {
    "scrolled": true
   },
   "outputs": [
    {
     "name": "stdout",
     "output_type": "stream",
     "text": [
      "# 0: \t [1.1310965769039645, 16.812623802157322]\n",
      "\n",
      "z = 19.07481695596525 when x = 1.1310965769039645 y = 16.812623802157322\n",
      "z = 19.07481695596525 when x = 1.1310965769039645 y = 16.812623802157322\n"
     ]
    }
   ],
   "source": [
    "validPoints = list(filter(lambda x : toAllRestrictions(x, restrictions), possiblePoints)) \n",
    "printListHorizontal (validPoints)\n",
    "\n",
    "Zs = list(map(lambda x : z(x), validPoints))\n",
    "\n",
    "min_i = 0\n",
    "max_i = 0\n",
    "\n",
    "for index, value in enumerate(Zs):\n",
    "    if (value < Zs[min_i]): min_i = index\n",
    "    if (Zs[max_i] < value): max_i = index\n",
    "\n",
    "print (f\"z = {Zs[max_i]} when x = {validPoints[max_i][0]} y = {validPoints[max_i][1]}\")\n",
    "print (f\"z = {Zs[min_i]} when x = {validPoints[min_i][0]} y = {validPoints[min_i][1]}\")"
   ]
  }
 ],
 "metadata": {
  "kernelspec": {
   "display_name": "Python 3",
   "language": "python",
   "name": "python3"
  },
  "language_info": {
   "codemirror_mode": {
    "name": "ipython",
    "version": 3
   },
   "file_extension": ".py",
   "mimetype": "text/x-python",
   "name": "python",
   "nbconvert_exporter": "python",
   "pygments_lexer": "ipython3",
   "version": "3.6.4"
  }
 },
 "nbformat": 4,
 "nbformat_minor": 2
}
