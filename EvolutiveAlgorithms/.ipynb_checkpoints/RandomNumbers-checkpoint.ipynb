{
 "cells": [
  {
   "cell_type": "markdown",
   "metadata": {},
   "source": [
    "## Libraries\n"
   ]
  },
  {
   "cell_type": "code",
   "execution_count": 56,
   "metadata": {},
   "outputs": [],
   "source": [
    "from random import random\n",
    "import math"
   ]
  },
  {
   "cell_type": "markdown",
   "metadata": {},
   "source": [
    "## n - Dimensions\n",
    "\n",
    "We define a point as a n size list, so:\n",
    " - Limits for each dimension, of type `[min, max]`\n",
    " - A list of restrictions\n",
    " - And a simple function to test if a point checks all restrictions\n",
    " - A z(point) objective function"
   ]
  },
  {
   "cell_type": "code",
   "execution_count": 72,
   "metadata": {},
   "outputs": [],
   "source": [
    "limits = [\n",
    "    [0, 75/2],\n",
    "    [0, 25],\n",
    "]\n",
    "\n",
    "def getRandom(limit):\n",
    "    minValue = limit[0]\n",
    "    maxValue = limit[1]\n",
    "    \n",
    "    return minValue + (maxValue - minValue) * random()\n",
    "\n",
    "restrictions = [\n",
    "    lambda point: 3*point[0] + 5*point[1] <= 100,\n",
    "    lambda point: 2*point[0] + 3*point[1] <= 75\n",
    "]\n",
    "\n",
    "\n",
    "def toAllRestrictions(data, restrictions):\n",
    "    for restriction in restrictions:\n",
    "        if restriction(data) == False: return False\n",
    "    \n",
    "    return True\n",
    "\n",
    "def z(point):\n",
    "    return 2*point[0] + point[1]\n",
    "\n",
    "\n",
    "def printListHorizontal(someList):\n",
    "    for index, element in enumerate(someList):\n",
    "        print(f\"# {index}: \\t {element}\")\n",
    "    print()\n",
    "    "
   ]
  },
  {
   "cell_type": "markdown",
   "metadata": {},
   "source": [
    "### Create some random points"
   ]
  },
  {
   "cell_type": "code",
   "execution_count": 78,
   "metadata": {},
   "outputs": [
    {
     "name": "stdout",
     "output_type": "stream",
     "text": [
      "# 0: \t [6.741546113457757, 4.82521135174663]\n",
      "# 1: \t [1.25273770208377, 16.58069337532912]\n",
      "# 2: \t [28.84169412065431, 14.687940790443651]\n",
      "# 3: \t [29.119855893495515, 8.068861349680459]\n",
      "# 4: \t [4.745759584008981, 0.24349030886916812]\n",
      "# 5: \t [1.8483592138342693, 12.762787984413468]\n",
      "# 6: \t [1.5367556050030748, 0.7886678055224944]\n",
      "# 7: \t [5.350530077250704, 14.76101884488753]\n",
      "# 8: \t [25.73953962195586, 3.685429380034752]\n",
      "# 9: \t [24.039992816686805, 15.953044307291394]\n",
      "# 10: \t [27.560039266607696, 17.936694763794296]\n",
      "# 11: \t [37.07260403835515, 7.682241589294655]\n",
      "# 12: \t [6.215769935219733, 16.51899640189744]\n",
      "# 13: \t [4.777283023860476, 13.23845222929526]\n",
      "# 14: \t [25.283341938877612, 9.061795963602856]\n",
      "# 15: \t [12.662324453345478, 11.360851299947292]\n",
      "# 16: \t [7.847925490671427, 2.3610106623343565]\n",
      "# 17: \t [28.502982299123513, 19.20154477747936]\n",
      "# 18: \t [3.9271602723939285, 9.070967355534027]\n",
      "# 19: \t [7.428853968012343, 19.883684360665928]\n",
      "# 20: \t [13.790902663485193, 15.612238949789168]\n",
      "# 21: \t [11.274757725558915, 5.258522850812944]\n",
      "# 22: \t [2.995015733521314, 4.695628023979714]\n",
      "# 23: \t [10.389796907482584, 0.6579927687934778]\n",
      "# 24: \t [7.347277859076826, 15.509905743461438]\n",
      "# 25: \t [13.373180999736995, 20.44318331455886]\n",
      "# 26: \t [9.5363291460973, 21.203671025332845]\n",
      "# 27: \t [16.0347867311094, 10.472777593406759]\n",
      "# 28: \t [35.31435875383971, 4.526326853145962]\n",
      "# 29: \t [26.88974139765924, 1.397491817561289]\n",
      "# 30: \t [28.851648869965576, 6.908724318386284]\n",
      "# 31: \t [8.097474703631853, 8.603824618313608]\n",
      "# 32: \t [21.81715694573337, 15.857168981296507]\n",
      "# 33: \t [31.515561837419597, 14.187049619445341]\n",
      "# 34: \t [16.385394711895948, 21.707241314168808]\n",
      "# 35: \t [9.683104313322865, 5.02058249508075]\n",
      "# 36: \t [29.42482748164506, 2.989322200250741]\n",
      "# 37: \t [11.809288356229244, 10.104611666581539]\n",
      "# 38: \t [10.25023760369658, 24.667147813644704]\n",
      "# 39: \t [19.479623657569, 24.46400826264929]\n",
      "# 40: \t [12.23922090682135, 2.0979635174723343]\n",
      "# 41: \t [2.3893286333550883, 6.941423381148152]\n",
      "# 42: \t [28.530913923882263, 12.46942773980964]\n",
      "# 43: \t [22.66999902348966, 23.77938212548816]\n",
      "# 44: \t [2.9626060712702906, 4.587178901962671]\n",
      "# 45: \t [1.0811634544374726, 22.889782953778383]\n",
      "# 46: \t [32.221009956558085, 9.194776500242352]\n",
      "# 47: \t [6.128706730925476, 19.730960259268414]\n",
      "# 48: \t [27.515097501962448, 22.33508259937354]\n",
      "# 49: \t [37.230163003365334, 20.693583779223683]\n",
      "\n"
     ]
    }
   ],
   "source": [
    "numTest = 50\n",
    "\n",
    "possiblePoints = [[getRandom(limits[0]), getRandom(limits[1])] for i in range(0, numTest)]\n",
    "printListHorizontal (possiblePoints)"
   ]
  },
  {
   "cell_type": "markdown",
   "metadata": {},
   "source": [
    "### Filter results that apply the restrictions  and get max, min in z"
   ]
  },
  {
   "cell_type": "code",
   "execution_count": 81,
   "metadata": {},
   "outputs": [
    {
     "ename": "SyntaxError",
     "evalue": "invalid syntax (<ipython-input-81-bfa7512f7a58>, line 9)",
     "output_type": "error",
     "traceback": [
      "\u001b[0;36m  File \u001b[0;32m\"<ipython-input-81-bfa7512f7a58>\"\u001b[0;36m, line \u001b[0;32m9\u001b[0m\n\u001b[0;31m    if (value < Zs[min_i]) min_i = index\u001b[0m\n\u001b[0m                               ^\u001b[0m\n\u001b[0;31mSyntaxError\u001b[0m\u001b[0;31m:\u001b[0m invalid syntax\n"
     ]
    }
   ],
   "source": [
    "validPoints = list(filter(lambda x : toAllRestrictions(x, restrictions), possiblePoints)) \n",
    "printListHorizontal (validPoints)\n",
    "\n",
    "Zs = list(map(lambda x : z(x), validPoints))\n",
    "\n",
    "min_i = 0, max_i = 0\n",
    "\n",
    "for index, value in enumerate(Zs):\n",
    "    if (value < Zs[min_i]): min_i = index\n",
    "    if (Zs[max_i] < value): max_i = index\n",
    "\n",
    "print (min_i)\n",
    "print (max_i)\n",
    "\n",
    "print (f\"z = {Zs[max_i]} when x = {validPoints[max_i][0]} y = {validPoints[max_i][1]}\")\n",
    "print (f\"z = {Zs[min_i]} when x = {validPoints[min_i][0]} y = {validPoints[min_i][1]}\")"
   ]
  },
  {
   "cell_type": "code",
   "execution_count": null,
   "metadata": {},
   "outputs": [],
   "source": []
  }
 ],
 "metadata": {
  "kernelspec": {
   "display_name": "Python 3",
   "language": "python",
   "name": "python3"
  },
  "language_info": {
   "codemirror_mode": {
    "name": "ipython",
    "version": 3
   },
   "file_extension": ".py",
   "mimetype": "text/x-python",
   "name": "python",
   "nbconvert_exporter": "python",
   "pygments_lexer": "ipython3",
   "version": "3.6.4"
  }
 },
 "nbformat": 4,
 "nbformat_minor": 2
}
